{
 "cells": [
  {
   "cell_type": "code",
   "execution_count": 84,
   "id": "9f66ea5c",
   "metadata": {},
   "outputs": [],
   "source": [
    "from sklearn import datasets\n",
    "from sklearn.model_selection import train_test_split\n",
    "\n",
    "dataset = datasets.load_breast_cancer()\n",
    "X, y = dataset.data, dataset.target"
   ]
  },
  {
   "cell_type": "code",
   "execution_count": 87,
   "id": "ad34aff3",
   "metadata": {},
   "outputs": [],
   "source": [
    "from sklearn.ensemble import RandomForestClassifier\n",
    "from sklearn.model_selection import GridSearchCV, KFold, cross_validate\n",
    "\n",
    "param_grid = {'n_estimators': [300, 500],\n",
    "                     'max_depth':[50, 70],\n",
    "                     'min_samples_split': [5, 10],\n",
    "                     'min_samples_leaf': [2, 10]}\n",
    "\n",
    "# inner loop for tuning the hyperparameters \n",
    "cv_inner = KFold(n_splits=3, shuffle=True, random_state=42)\n",
    "\n",
    "# outer loop for testing on holdout set\n",
    "cv_outer = KFold(n_splits=5, shuffle=True, random_state=42)\n",
    "\n",
    "rf = RandomForestClassifier(n_jobs=-1, random_state=42)\n",
    "clf = GridSearchCV(estimator=rf, param_grid=param_grid, cv=cv_inner)\n",
    "\n",
    "nested_score = cross_validate(clf, X=X, y=y, cv=cv_outer, scoring=('recall', 'precision', 'roc_auc'))"
   ]
  },
  {
   "cell_type": "code",
   "execution_count": 88,
   "id": "2e53b8d4",
   "metadata": {},
   "outputs": [
    {
     "data": {
      "text/plain": [
       "{'fit_time': array([34.48941565, 32.0773716 , 28.59477186, 28.64398813, 28.22862506]),\n",
       " 'score_time': array([0.53126407, 0.27085567, 0.17524123, 0.17920899, 0.17169523]),\n",
       " 'test_recall': array([0.98591549, 0.98701299, 0.95774648, 0.95774648, 0.97014925]),\n",
       " 'test_precision': array([0.95890411, 0.97435897, 0.93150685, 0.98550725, 0.95588235]),\n",
       " 'test_roc_auc': array([0.99606944, 0.998245  , 0.98067475, 0.99639699, 0.97193381])}"
      ]
     },
     "execution_count": 88,
     "metadata": {},
     "output_type": "execute_result"
    }
   ],
   "source": [
    "nested_score"
   ]
  },
  {
   "cell_type": "code",
   "execution_count": null,
   "id": "226d38f4",
   "metadata": {},
   "outputs": [],
   "source": []
  }
 ],
 "metadata": {
  "kernelspec": {
   "display_name": "Python 3 (ipykernel)",
   "language": "python",
   "name": "python3"
  },
  "language_info": {
   "codemirror_mode": {
    "name": "ipython",
    "version": 3
   },
   "file_extension": ".py",
   "mimetype": "text/x-python",
   "name": "python",
   "nbconvert_exporter": "python",
   "pygments_lexer": "ipython3",
   "version": "3.9.5"
  }
 },
 "nbformat": 4,
 "nbformat_minor": 5
}
