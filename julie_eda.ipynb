{
 "cells": [
  {
   "cell_type": "code",
   "execution_count": 27,
   "id": "e65d291a-573c-40ce-a985-2726ac7c8466",
   "metadata": {},
   "outputs": [
    {
     "data": {
      "text/html": [
       "<div>\n",
       "<style scoped>\n",
       "    .dataframe tbody tr th:only-of-type {\n",
       "        vertical-align: middle;\n",
       "    }\n",
       "\n",
       "    .dataframe tbody tr th {\n",
       "        vertical-align: top;\n",
       "    }\n",
       "\n",
       "    .dataframe thead th {\n",
       "        text-align: right;\n",
       "    }\n",
       "</style>\n",
       "<table border=\"1\" class=\"dataframe\">\n",
       "  <thead>\n",
       "    <tr style=\"text-align: right;\">\n",
       "      <th></th>\n",
       "      <th>Unnamed: 0</th>\n",
       "      <th>gvkey</th>\n",
       "      <th>fyear</th>\n",
       "      <th>company.name</th>\n",
       "      <th>tic</th>\n",
       "      <th>sbf</th>\n",
       "      <th>kld_index</th>\n",
       "      <th>kld_governance</th>\n",
       "      <th>kld_community</th>\n",
       "      <th>kld_diversity</th>\n",
       "      <th>...</th>\n",
       "      <th>gsector</th>\n",
       "      <th>ggroup</th>\n",
       "      <th>gind</th>\n",
       "      <th>gsubind</th>\n",
       "      <th>sic</th>\n",
       "      <th>cik</th>\n",
       "      <th>cusip</th>\n",
       "      <th>dualclass</th>\n",
       "      <th>average_current_RRI</th>\n",
       "      <th>research.and.development</th>\n",
       "    </tr>\n",
       "  </thead>\n",
       "  <tbody>\n",
       "    <tr>\n",
       "      <th>0</th>\n",
       "      <td>24</td>\n",
       "      <td>1004</td>\n",
       "      <td>2003</td>\n",
       "      <td>AAR CORP</td>\n",
       "      <td>AIR</td>\n",
       "      <td>1</td>\n",
       "      <td>0.000000</td>\n",
       "      <td>0.0</td>\n",
       "      <td>0.0</td>\n",
       "      <td>0.000000</td>\n",
       "      <td>...</td>\n",
       "      <td>20</td>\n",
       "      <td>2010</td>\n",
       "      <td>201010</td>\n",
       "      <td>20101010</td>\n",
       "      <td>5080</td>\n",
       "      <td>1750.0</td>\n",
       "      <td>00036110</td>\n",
       "      <td>0.0</td>\n",
       "      <td>NaN</td>\n",
       "      <td>NaN</td>\n",
       "    </tr>\n",
       "    <tr>\n",
       "      <th>1</th>\n",
       "      <td>25</td>\n",
       "      <td>1004</td>\n",
       "      <td>2004</td>\n",
       "      <td>AAR CORP</td>\n",
       "      <td>AIR</td>\n",
       "      <td>1</td>\n",
       "      <td>-0.533333</td>\n",
       "      <td>0.0</td>\n",
       "      <td>0.0</td>\n",
       "      <td>-0.333333</td>\n",
       "      <td>...</td>\n",
       "      <td>20</td>\n",
       "      <td>2010</td>\n",
       "      <td>201010</td>\n",
       "      <td>20101010</td>\n",
       "      <td>5080</td>\n",
       "      <td>1750.0</td>\n",
       "      <td>00036110</td>\n",
       "      <td>0.0</td>\n",
       "      <td>NaN</td>\n",
       "      <td>NaN</td>\n",
       "    </tr>\n",
       "    <tr>\n",
       "      <th>2</th>\n",
       "      <td>34</td>\n",
       "      <td>1004</td>\n",
       "      <td>2013</td>\n",
       "      <td>AAR CORP</td>\n",
       "      <td>AIR</td>\n",
       "      <td>1</td>\n",
       "      <td>-0.242424</td>\n",
       "      <td>0.0</td>\n",
       "      <td>0.0</td>\n",
       "      <td>-0.333333</td>\n",
       "      <td>...</td>\n",
       "      <td>20</td>\n",
       "      <td>2010</td>\n",
       "      <td>201010</td>\n",
       "      <td>20101010</td>\n",
       "      <td>5080</td>\n",
       "      <td>1750.0</td>\n",
       "      <td>00036110</td>\n",
       "      <td>0.0</td>\n",
       "      <td>0.000000</td>\n",
       "      <td>NaN</td>\n",
       "    </tr>\n",
       "    <tr>\n",
       "      <th>3</th>\n",
       "      <td>36</td>\n",
       "      <td>1004</td>\n",
       "      <td>2015</td>\n",
       "      <td>AAR CORP</td>\n",
       "      <td>AIR</td>\n",
       "      <td>1</td>\n",
       "      <td>-0.500000</td>\n",
       "      <td>0.0</td>\n",
       "      <td>0.0</td>\n",
       "      <td>-0.500000</td>\n",
       "      <td>...</td>\n",
       "      <td>20</td>\n",
       "      <td>2010</td>\n",
       "      <td>201010</td>\n",
       "      <td>20101010</td>\n",
       "      <td>5080</td>\n",
       "      <td>1750.0</td>\n",
       "      <td>00036110</td>\n",
       "      <td>NaN</td>\n",
       "      <td>10.166667</td>\n",
       "      <td>NaN</td>\n",
       "    </tr>\n",
       "    <tr>\n",
       "      <th>4</th>\n",
       "      <td>37</td>\n",
       "      <td>1004</td>\n",
       "      <td>2016</td>\n",
       "      <td>AAR CORP</td>\n",
       "      <td>AIR</td>\n",
       "      <td>1</td>\n",
       "      <td>0.000000</td>\n",
       "      <td>0.0</td>\n",
       "      <td>0.0</td>\n",
       "      <td>0.000000</td>\n",
       "      <td>...</td>\n",
       "      <td>20</td>\n",
       "      <td>2010</td>\n",
       "      <td>201010</td>\n",
       "      <td>20101010</td>\n",
       "      <td>5080</td>\n",
       "      <td>1750.0</td>\n",
       "      <td>00036110</td>\n",
       "      <td>NaN</td>\n",
       "      <td>0.083333</td>\n",
       "      <td>NaN</td>\n",
       "    </tr>\n",
       "    <tr>\n",
       "      <th>5</th>\n",
       "      <td>38</td>\n",
       "      <td>1004</td>\n",
       "      <td>2017</td>\n",
       "      <td>AAR CORP</td>\n",
       "      <td>AIR</td>\n",
       "      <td>1</td>\n",
       "      <td>0.100000</td>\n",
       "      <td>0.0</td>\n",
       "      <td>0.0</td>\n",
       "      <td>0.000000</td>\n",
       "      <td>...</td>\n",
       "      <td>20</td>\n",
       "      <td>2010</td>\n",
       "      <td>201010</td>\n",
       "      <td>20101010</td>\n",
       "      <td>5080</td>\n",
       "      <td>1750.0</td>\n",
       "      <td>00036110</td>\n",
       "      <td>NaN</td>\n",
       "      <td>0.000000</td>\n",
       "      <td>NaN</td>\n",
       "    </tr>\n",
       "    <tr>\n",
       "      <th>6</th>\n",
       "      <td>39</td>\n",
       "      <td>1004</td>\n",
       "      <td>2018</td>\n",
       "      <td>AAR CORP</td>\n",
       "      <td>AIR</td>\n",
       "      <td>1</td>\n",
       "      <td>0.711111</td>\n",
       "      <td>0.5</td>\n",
       "      <td>0.0</td>\n",
       "      <td>0.000000</td>\n",
       "      <td>...</td>\n",
       "      <td>20</td>\n",
       "      <td>2010</td>\n",
       "      <td>201010</td>\n",
       "      <td>20101010</td>\n",
       "      <td>5080</td>\n",
       "      <td>1750.0</td>\n",
       "      <td>00036110</td>\n",
       "      <td>NaN</td>\n",
       "      <td>0.000000</td>\n",
       "      <td>NaN</td>\n",
       "    </tr>\n",
       "    <tr>\n",
       "      <th>7</th>\n",
       "      <td>40</td>\n",
       "      <td>1004</td>\n",
       "      <td>2019</td>\n",
       "      <td>AAR CORP</td>\n",
       "      <td>AIR</td>\n",
       "      <td>1</td>\n",
       "      <td>0.100000</td>\n",
       "      <td>0.0</td>\n",
       "      <td>0.0</td>\n",
       "      <td>0.000000</td>\n",
       "      <td>...</td>\n",
       "      <td>20</td>\n",
       "      <td>2010</td>\n",
       "      <td>201010</td>\n",
       "      <td>20101010</td>\n",
       "      <td>5080</td>\n",
       "      <td>1750.0</td>\n",
       "      <td>00036110</td>\n",
       "      <td>NaN</td>\n",
       "      <td>0.000000</td>\n",
       "      <td>NaN</td>\n",
       "    </tr>\n",
       "    <tr>\n",
       "      <th>8</th>\n",
       "      <td>78</td>\n",
       "      <td>1045</td>\n",
       "      <td>2014</td>\n",
       "      <td>AMERICAN AIRLINES GROUP INC</td>\n",
       "      <td>AAL</td>\n",
       "      <td>0</td>\n",
       "      <td>-0.219444</td>\n",
       "      <td>0.0</td>\n",
       "      <td>0.0</td>\n",
       "      <td>0.000000</td>\n",
       "      <td>...</td>\n",
       "      <td>20</td>\n",
       "      <td>2030</td>\n",
       "      <td>203020</td>\n",
       "      <td>20302010</td>\n",
       "      <td>4512</td>\n",
       "      <td>6201.0</td>\n",
       "      <td>02376R10</td>\n",
       "      <td>NaN</td>\n",
       "      <td>25.166667</td>\n",
       "      <td>NaN</td>\n",
       "    </tr>\n",
       "    <tr>\n",
       "      <th>9</th>\n",
       "      <td>79</td>\n",
       "      <td>1045</td>\n",
       "      <td>2015</td>\n",
       "      <td>AMERICAN AIRLINES GROUP INC</td>\n",
       "      <td>AAL</td>\n",
       "      <td>0</td>\n",
       "      <td>-0.256944</td>\n",
       "      <td>0.0</td>\n",
       "      <td>0.0</td>\n",
       "      <td>0.000000</td>\n",
       "      <td>...</td>\n",
       "      <td>20</td>\n",
       "      <td>2030</td>\n",
       "      <td>203020</td>\n",
       "      <td>20302010</td>\n",
       "      <td>4512</td>\n",
       "      <td>6201.0</td>\n",
       "      <td>02376R10</td>\n",
       "      <td>NaN</td>\n",
       "      <td>34.250000</td>\n",
       "      <td>NaN</td>\n",
       "    </tr>\n",
       "  </tbody>\n",
       "</table>\n",
       "<p>10 rows × 46 columns</p>\n",
       "</div>"
      ],
      "text/plain": [
       "   Unnamed: 0  gvkey  fyear                 company.name  tic  sbf  kld_index  \\\n",
       "0          24   1004   2003                     AAR CORP  AIR    1   0.000000   \n",
       "1          25   1004   2004                     AAR CORP  AIR    1  -0.533333   \n",
       "2          34   1004   2013                     AAR CORP  AIR    1  -0.242424   \n",
       "3          36   1004   2015                     AAR CORP  AIR    1  -0.500000   \n",
       "4          37   1004   2016                     AAR CORP  AIR    1   0.000000   \n",
       "5          38   1004   2017                     AAR CORP  AIR    1   0.100000   \n",
       "6          39   1004   2018                     AAR CORP  AIR    1   0.711111   \n",
       "7          40   1004   2019                     AAR CORP  AIR    1   0.100000   \n",
       "8          78   1045   2014  AMERICAN AIRLINES GROUP INC  AAL    0  -0.219444   \n",
       "9          79   1045   2015  AMERICAN AIRLINES GROUP INC  AAL    0  -0.256944   \n",
       "\n",
       "   kld_governance  kld_community  kld_diversity  ...  gsector  ggroup    gind  \\\n",
       "0             0.0            0.0       0.000000  ...       20    2010  201010   \n",
       "1             0.0            0.0      -0.333333  ...       20    2010  201010   \n",
       "2             0.0            0.0      -0.333333  ...       20    2010  201010   \n",
       "3             0.0            0.0      -0.500000  ...       20    2010  201010   \n",
       "4             0.0            0.0       0.000000  ...       20    2010  201010   \n",
       "5             0.0            0.0       0.000000  ...       20    2010  201010   \n",
       "6             0.5            0.0       0.000000  ...       20    2010  201010   \n",
       "7             0.0            0.0       0.000000  ...       20    2010  201010   \n",
       "8             0.0            0.0       0.000000  ...       20    2030  203020   \n",
       "9             0.0            0.0       0.000000  ...       20    2030  203020   \n",
       "\n",
       "    gsubind   sic     cik     cusip  dualclass  average_current_RRI  \\\n",
       "0  20101010  5080  1750.0  00036110        0.0                  NaN   \n",
       "1  20101010  5080  1750.0  00036110        0.0                  NaN   \n",
       "2  20101010  5080  1750.0  00036110        0.0             0.000000   \n",
       "3  20101010  5080  1750.0  00036110        NaN            10.166667   \n",
       "4  20101010  5080  1750.0  00036110        NaN             0.083333   \n",
       "5  20101010  5080  1750.0  00036110        NaN             0.000000   \n",
       "6  20101010  5080  1750.0  00036110        NaN             0.000000   \n",
       "7  20101010  5080  1750.0  00036110        NaN             0.000000   \n",
       "8  20302010  4512  6201.0  02376R10        NaN            25.166667   \n",
       "9  20302010  4512  6201.0  02376R10        NaN            34.250000   \n",
       "\n",
       "   research.and.development  \n",
       "0                       NaN  \n",
       "1                       NaN  \n",
       "2                       NaN  \n",
       "3                       NaN  \n",
       "4                       NaN  \n",
       "5                       NaN  \n",
       "6                       NaN  \n",
       "7                       NaN  \n",
       "8                       NaN  \n",
       "9                       NaN  \n",
       "\n",
       "[10 rows x 46 columns]"
      ]
     },
     "execution_count": 27,
     "metadata": {},
     "output_type": "execute_result"
    }
   ],
   "source": [
    "import pandas as pd\n",
    "df = pd.read_csv(\"final_data.csv\")\n",
    "df.head(10)"
   ]
  },
  {
   "cell_type": "code",
   "execution_count": 28,
   "id": "d745469c-87cb-4aaf-b463-ab5690d705bc",
   "metadata": {},
   "outputs": [],
   "source": [
    "df=df.rename(columns={'company.name': 'company_name'})"
   ]
  },
  {
   "cell_type": "code",
   "execution_count": 29,
   "id": "a778ed2b-a6c5-42ec-be0d-111f5b977c26",
   "metadata": {},
   "outputs": [
    {
     "data": {
      "text/plain": [
       "(18775, 46)"
      ]
     },
     "execution_count": 29,
     "metadata": {},
     "output_type": "execute_result"
    }
   ],
   "source": [
    "df.shape"
   ]
  },
  {
   "cell_type": "code",
   "execution_count": 30,
   "id": "d2ac39c7-9397-4dd7-8a1e-94bbbd145a77",
   "metadata": {},
   "outputs": [
    {
     "data": {
      "text/plain": [
       "Index(['Unnamed: 0', 'gvkey', 'fyear', 'company_name', 'tic', 'sbf',\n",
       "       'kld_index', 'kld_governance', 'kld_community', 'kld_diversity',\n",
       "       'kld_employeerelations', 'kld_environment', 'kld_humanrights',\n",
       "       'kld_product', 'incorp', 'Sensitive.Industry', 'tobinsq', 'tobinsq_adj',\n",
       "       'total.assets', 'age', 'log_age', 'hhi', 'ROA', 'debt.to.equity',\n",
       "       'investments', 'cash.holdings', 'sale', 'res.and.dev.expense',\n",
       "       'net.income', 'capital.expenditures', 'common.equity', 'cash',\n",
       "       'common.shares.outstanding', 'total.debt', 'deferred.taxes', 'price',\n",
       "       'gsector', 'ggroup', 'gind', 'gsubind', 'sic', 'cik', 'cusip',\n",
       "       'dualclass', 'average_current_RRI', 'research.and.development'],\n",
       "      dtype='object')"
      ]
     },
     "execution_count": 30,
     "metadata": {},
     "output_type": "execute_result"
    }
   ],
   "source": [
    "df.columns"
   ]
  },
  {
   "cell_type": "markdown",
   "id": "2ef14f1a-4102-4a40-9eee-a3a7f6f4645f",
   "metadata": {},
   "source": [
    "## total companies"
   ]
  },
  {
   "cell_type": "code",
   "execution_count": 59,
   "id": "914a5804-f224-44f2-b659-adc1cfdd6db4",
   "metadata": {},
   "outputs": [
    {
     "data": {
      "text/plain": [
       "1936"
      ]
     },
     "execution_count": 59,
     "metadata": {},
     "output_type": "execute_result"
    }
   ],
   "source": [
    "df.company_name.nunique()"
   ]
  },
  {
   "cell_type": "markdown",
   "id": "449937d3-a3ed-47b2-94db-c1e3b28b9b55",
   "metadata": {},
   "source": [
    "## companies per year"
   ]
  },
  {
   "cell_type": "code",
   "execution_count": 48,
   "id": "069088b0-add3-495d-805f-bba1d9c43e0e",
   "metadata": {},
   "outputs": [
    {
     "data": {
      "text/plain": [
       "fyear\n",
       "1995      88\n",
       "1996      94\n",
       "1997     106\n",
       "1998     123\n",
       "1999     138\n",
       "2000     132\n",
       "2001     257\n",
       "2002     292\n",
       "2003     649\n",
       "2004     720\n",
       "2005     686\n",
       "2006     730\n",
       "2007     806\n",
       "2008     858\n",
       "2009     891\n",
       "2010     980\n",
       "2011     997\n",
       "2012    1043\n",
       "2013    1076\n",
       "2014    1049\n",
       "2015    1200\n",
       "2016    1271\n",
       "2017    1426\n",
       "2018    1562\n",
       "2019    1601\n",
       "Name: company_name, dtype: int64"
      ]
     },
     "execution_count": 48,
     "metadata": {},
     "output_type": "execute_result"
    }
   ],
   "source": [
    "companies_per_year = df.groupby('fyear').company_name.nunique()\n",
    "companies_per_year"
   ]
  },
  {
   "cell_type": "code",
   "execution_count": 55,
   "id": "817b133f-aba8-4ac5-8a57-f00711136cfd",
   "metadata": {},
   "outputs": [
    {
     "data": {
      "text/plain": [
       "<Axes: xlabel='fyear', ylabel='n companies'>"
      ]
     },
     "execution_count": 55,
     "metadata": {},
     "output_type": "execute_result"
    },
    {
     "data": {
      "image/png": "[encoded data removed]",
      "text/plain": [
       "<Figure size 640x480 with 1 Axes>"
      ]
     },
     "metadata": {},
     "output_type": "display_data"
    }
   ],
   "source": [
    "companies_per_year.plot(ylabel=\"n companies\")"
   ]
  },
  {
   "cell_type": "markdown",
   "id": "fb85216d-53e6-4490-993a-2780e7342100",
   "metadata": {},
   "source": [
    "## years per company"
   ]
  },
  {
   "cell_type": "code",
   "execution_count": 66,
   "id": "f0f81435-ed13-4759-8a1d-d1126b9bb98b",
   "metadata": {},
   "outputs": [
    {
     "data": {
      "text/plain": [
       "company_name\n",
       "KANSAS CITY LIFE INS CO          1\n",
       "EQUITABLE HOLDINGS INC           1\n",
       "PENNYMAC FINANCIAL SERVICES      1\n",
       "EPR PROPERTIES                   1\n",
       "PENNYMAC MORTGAGE INVEST TR      1\n",
       "                                ..\n",
       "PNC FINANCIAL SVCS GROUP INC    25\n",
       "HELMERICH & PAYNE               25\n",
       "MARSH & MCLENNAN COS            25\n",
       "DOVER CORP                      25\n",
       "UNION PACIFIC CORP              25\n",
       "Name: fyear, Length: 1936, dtype: int64"
      ]
     },
     "execution_count": 66,
     "metadata": {},
     "output_type": "execute_result"
    }
   ],
   "source": [
    "years_per_company = df.groupby('company_name').fyear.nunique().sort_values()\n",
    "years_per_company"
   ]
  },
  {
   "cell_type": "code",
   "execution_count": 75,
   "id": "40771aa0-b273-4ce8-9da5-1da071c3362b",
   "metadata": {},
   "outputs": [
    {
     "data": {
      "text/plain": [
       "<Axes: xlabel='Years', ylabel='n companies'>"
      ]
     },
     "execution_count": 75,
     "metadata": {},
     "output_type": "execute_result"
    },
    {
     "data": {
      "image/png": "[encoded data removed]",
      "text/plain": [
       "<Figure size 640x480 with 1 Axes>"
      ]
     },
     "metadata": {},
     "output_type": "display_data"
    }
   ],
   "source": [
    "years_per_company.plot(kind=\"hist\", bins=25, xlabel=\"Years\", ylabel=\"n companies\")"
   ]
  },
  {
   "cell_type": "markdown",
   "id": "8bd518e4-01e0-400f-9896-8965999e21e5",
   "metadata": {},
   "source": [
    "## staggered board?\n",
    "### only staggered, never staggered, both"
   ]
  },
  {
   "cell_type": "code",
   "execution_count": 164,
   "id": "fd02a1b8-7930-4905-9819-69caa05b361e",
   "metadata": {},
   "outputs": [
    {
     "data": {
      "text/html": [
       "<div>\n",
       "<style scoped>\n",
       "    .dataframe tbody tr th:only-of-type {\n",
       "        vertical-align: middle;\n",
       "    }\n",
       "\n",
       "    .dataframe tbody tr th {\n",
       "        vertical-align: top;\n",
       "    }\n",
       "\n",
       "    .dataframe thead th {\n",
       "        text-align: right;\n",
       "    }\n",
       "</style>\n",
       "<table border=\"1\" class=\"dataframe\">\n",
       "  <thead>\n",
       "    <tr style=\"text-align: right;\">\n",
       "      <th></th>\n",
       "      <th>set</th>\n",
       "    </tr>\n",
       "    <tr>\n",
       "      <th>company_name</th>\n",
       "      <th></th>\n",
       "    </tr>\n",
       "  </thead>\n",
       "  <tbody>\n",
       "    <tr>\n",
       "      <th>1-800-FLOWERS.COM</th>\n",
       "      <td>[0, 1]</td>\n",
       "    </tr>\n",
       "    <tr>\n",
       "      <th>1ST SOURCE CORP</th>\n",
       "      <td>[1]</td>\n",
       "    </tr>\n",
       "    <tr>\n",
       "      <th>2U INC</th>\n",
       "      <td>[1]</td>\n",
       "    </tr>\n",
       "    <tr>\n",
       "      <th>3D SYSTEMS CORP</th>\n",
       "      <td>[0]</td>\n",
       "    </tr>\n",
       "    <tr>\n",
       "      <th>8X8 INC</th>\n",
       "      <td>[0]</td>\n",
       "    </tr>\n",
       "    <tr>\n",
       "      <th>...</th>\n",
       "      <td>...</td>\n",
       "    </tr>\n",
       "    <tr>\n",
       "      <th>ZIONS BANCORPORATION NA</th>\n",
       "      <td>[0, 1]</td>\n",
       "    </tr>\n",
       "    <tr>\n",
       "      <th>ZOETIS INC</th>\n",
       "      <td>[1]</td>\n",
       "    </tr>\n",
       "    <tr>\n",
       "      <th>ZSCALER INC</th>\n",
       "      <td>[1]</td>\n",
       "    </tr>\n",
       "    <tr>\n",
       "      <th>ZUMIEZ INC</th>\n",
       "      <td>[1]</td>\n",
       "    </tr>\n",
       "    <tr>\n",
       "      <th>ZUORA INC</th>\n",
       "      <td>[1]</td>\n",
       "    </tr>\n",
       "  </tbody>\n",
       "</table>\n",
       "<p>1936 rows × 1 columns</p>\n",
       "</div>"
      ],
      "text/plain": [
       "                            set\n",
       "company_name                   \n",
       "1-800-FLOWERS.COM        [0, 1]\n",
       "1ST SOURCE CORP             [1]\n",
       "2U INC                      [1]\n",
       "3D SYSTEMS CORP             [0]\n",
       "8X8 INC                     [0]\n",
       "...                         ...\n",
       "ZIONS BANCORPORATION NA  [0, 1]\n",
       "ZOETIS INC                  [1]\n",
       "ZSCALER INC                 [1]\n",
       "ZUMIEZ INC                  [1]\n",
       "ZUORA INC                   [1]\n",
       "\n",
       "[1936 rows x 1 columns]"
      ]
     },
     "execution_count": 164,
     "metadata": {},
     "output_type": "execute_result"
    }
   ],
   "source": [
    "df_sbf = df.groupby('company_name')['sbf'].agg(set= lambda x: list(set(x)))\n",
    "df_sbf"
   ]
  },
  {
   "cell_type": "code",
   "execution_count": 163,
   "id": "e11ca262-8719-453c-a50b-aee292c61eee",
   "metadata": {},
   "outputs": [
    {
     "data": {
      "text/plain": [
       "[Text(0, 0, 'staggered'), Text(1, 0, 'not staggered'), Text(2, 0, 'both')]"
      ]
     },
     "execution_count": 163,
     "metadata": {},
     "output_type": "execute_result"
    },
    {
     "data": {
      "image/png": "[encoded data removed]",
      "text/plain": [
       "<Figure size 640x480 with 1 Axes>"
      ]
     },
     "metadata": {},
     "output_type": "display_data"
    }
   ],
   "source": [
    "ax = df_sbf[\"set\"].value_counts().plot(kind=\"bar\", ylabel=\"n companies\", xlabel=\"category\", rot=30)\n",
    "ax.set_xticklabels([\"staggered\", \"not staggered\", \"both\"])\n"
   ]
  },
  {
   "cell_type": "code",
   "execution_count": null,
   "id": "e2f3c965-dbf6-4581-a560-122e9c91a4b6",
   "metadata": {},
   "outputs": [],
   "source": []
  }
 ],
 "metadata": {
  "kernelspec": {
   "display_name": "Python 3 (ipykernel)",
   "language": "python",
   "name": "python3"
  },
  "language_info": {
   "codemirror_mode": {
    "name": "ipython",
    "version": 3
   },
   "file_extension": ".py",
   "mimetype": "text/x-python",
   "name": "python",
   "nbconvert_exporter": "python",
   "pygments_lexer": "ipython3",
   "version": "3.11.5"
  }
 },
 "nbformat": 4,
 "nbformat_minor": 5
}
