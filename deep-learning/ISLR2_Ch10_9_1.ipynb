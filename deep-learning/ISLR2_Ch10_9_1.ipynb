{
 "cells": [
  {
   "cell_type": "markdown",
   "id": "e23da062",
   "metadata": {},
   "source": [
    "# Reproducing the Single-Hidden-Layer NN from Ch.10 in ISLR2 with Pytorch"
   ]
  },
  {
   "cell_type": "markdown",
   "id": "39608a29",
   "metadata": {},
   "source": [
    "#### In the 2nd edition of [An Introduction to Statistical Learning](https://www.statlearning.com/), Deep Learning is introduced in Chapter 10. \n",
    "#### Using the [Hitters dataset](https://www.statlearning.com/resources-second-edition), the goal is to predict the Salary of a baseball player in 1987 using his performance statistics from 1986. The dataset consisists 263 players and 19 variables. We randomly split the data into a training set of 176 players (two thirds), and a test set of 87 players (one third). "
   ]
  },
  {
   "cell_type": "markdown",
   "id": "e6e50ab5",
   "metadata": {},
   "source": [
    "## Basic approach with Multiple Linear Regression (20 parameters)"
   ]
  },
  {
   "cell_type": "code",
   "execution_count": 286,
   "id": "20eba59d",
   "metadata": {},
   "outputs": [],
   "source": [
    "import pandas as pd\n",
    "from sklearn.metrics import mean_absolute_error\n",
    "from sklearn.linear_model import LinearRegression\n",
    "from sklearn.preprocessing import StandardScaler\n",
    "from sklearn.model_selection import train_test_split"
   ]
  },
  {
   "cell_type": "code",
   "execution_count": 287,
   "id": "309f591c",
   "metadata": {},
   "outputs": [
    {
     "name": "stdout",
     "output_type": "stream",
     "text": [
      "(263, 20)\n"
     ]
    },
    {
     "data": {
      "text/html": [
       "<div>\n",
       "<style scoped>\n",
       "    .dataframe tbody tr th:only-of-type {\n",
       "        vertical-align: middle;\n",
       "    }\n",
       "\n",
       "    .dataframe tbody tr th {\n",
       "        vertical-align: top;\n",
       "    }\n",
       "\n",
       "    .dataframe thead th {\n",
       "        text-align: right;\n",
       "    }\n",
       "</style>\n",
       "<table border=\"1\" class=\"dataframe\">\n",
       "  <thead>\n",
       "    <tr style=\"text-align: right;\">\n",
       "      <th></th>\n",
       "      <th>AtBat</th>\n",
       "      <th>Hits</th>\n",
       "      <th>HmRun</th>\n",
       "      <th>Runs</th>\n",
       "      <th>RBI</th>\n",
       "      <th>Walks</th>\n",
       "      <th>Years</th>\n",
       "      <th>CAtBat</th>\n",
       "      <th>CHits</th>\n",
       "      <th>CHmRun</th>\n",
       "      <th>CRuns</th>\n",
       "      <th>CRBI</th>\n",
       "      <th>CWalks</th>\n",
       "      <th>League</th>\n",
       "      <th>Division</th>\n",
       "      <th>PutOuts</th>\n",
       "      <th>Assists</th>\n",
       "      <th>Errors</th>\n",
       "      <th>Salary</th>\n",
       "      <th>NewLeague</th>\n",
       "    </tr>\n",
       "  </thead>\n",
       "  <tbody>\n",
       "    <tr>\n",
       "      <th>0</th>\n",
       "      <td>315</td>\n",
       "      <td>81</td>\n",
       "      <td>7</td>\n",
       "      <td>24</td>\n",
       "      <td>38</td>\n",
       "      <td>39</td>\n",
       "      <td>14</td>\n",
       "      <td>3449</td>\n",
       "      <td>835</td>\n",
       "      <td>69</td>\n",
       "      <td>321</td>\n",
       "      <td>414</td>\n",
       "      <td>375</td>\n",
       "      <td>N</td>\n",
       "      <td>W</td>\n",
       "      <td>632</td>\n",
       "      <td>43</td>\n",
       "      <td>10</td>\n",
       "      <td>475.0</td>\n",
       "      <td>N</td>\n",
       "    </tr>\n",
       "    <tr>\n",
       "      <th>1</th>\n",
       "      <td>479</td>\n",
       "      <td>130</td>\n",
       "      <td>18</td>\n",
       "      <td>66</td>\n",
       "      <td>72</td>\n",
       "      <td>76</td>\n",
       "      <td>3</td>\n",
       "      <td>1624</td>\n",
       "      <td>457</td>\n",
       "      <td>63</td>\n",
       "      <td>224</td>\n",
       "      <td>266</td>\n",
       "      <td>263</td>\n",
       "      <td>A</td>\n",
       "      <td>W</td>\n",
       "      <td>880</td>\n",
       "      <td>82</td>\n",
       "      <td>14</td>\n",
       "      <td>480.0</td>\n",
       "      <td>A</td>\n",
       "    </tr>\n",
       "    <tr>\n",
       "      <th>2</th>\n",
       "      <td>496</td>\n",
       "      <td>141</td>\n",
       "      <td>20</td>\n",
       "      <td>65</td>\n",
       "      <td>78</td>\n",
       "      <td>37</td>\n",
       "      <td>11</td>\n",
       "      <td>5628</td>\n",
       "      <td>1575</td>\n",
       "      <td>225</td>\n",
       "      <td>828</td>\n",
       "      <td>838</td>\n",
       "      <td>354</td>\n",
       "      <td>N</td>\n",
       "      <td>E</td>\n",
       "      <td>200</td>\n",
       "      <td>11</td>\n",
       "      <td>3</td>\n",
       "      <td>500.0</td>\n",
       "      <td>N</td>\n",
       "    </tr>\n",
       "    <tr>\n",
       "      <th>3</th>\n",
       "      <td>321</td>\n",
       "      <td>87</td>\n",
       "      <td>10</td>\n",
       "      <td>39</td>\n",
       "      <td>42</td>\n",
       "      <td>30</td>\n",
       "      <td>2</td>\n",
       "      <td>396</td>\n",
       "      <td>101</td>\n",
       "      <td>12</td>\n",
       "      <td>48</td>\n",
       "      <td>46</td>\n",
       "      <td>33</td>\n",
       "      <td>N</td>\n",
       "      <td>E</td>\n",
       "      <td>805</td>\n",
       "      <td>40</td>\n",
       "      <td>4</td>\n",
       "      <td>91.5</td>\n",
       "      <td>N</td>\n",
       "    </tr>\n",
       "    <tr>\n",
       "      <th>4</th>\n",
       "      <td>594</td>\n",
       "      <td>169</td>\n",
       "      <td>4</td>\n",
       "      <td>74</td>\n",
       "      <td>51</td>\n",
       "      <td>35</td>\n",
       "      <td>11</td>\n",
       "      <td>4408</td>\n",
       "      <td>1133</td>\n",
       "      <td>19</td>\n",
       "      <td>501</td>\n",
       "      <td>336</td>\n",
       "      <td>194</td>\n",
       "      <td>A</td>\n",
       "      <td>W</td>\n",
       "      <td>282</td>\n",
       "      <td>421</td>\n",
       "      <td>25</td>\n",
       "      <td>750.0</td>\n",
       "      <td>A</td>\n",
       "    </tr>\n",
       "  </tbody>\n",
       "</table>\n",
       "</div>"
      ],
      "text/plain": [
       "   AtBat  Hits  HmRun  Runs  RBI  Walks  Years  CAtBat  CHits  CHmRun  CRuns  \\\n",
       "0    315    81      7    24   38     39     14    3449    835      69    321   \n",
       "1    479   130     18    66   72     76      3    1624    457      63    224   \n",
       "2    496   141     20    65   78     37     11    5628   1575     225    828   \n",
       "3    321    87     10    39   42     30      2     396    101      12     48   \n",
       "4    594   169      4    74   51     35     11    4408   1133      19    501   \n",
       "\n",
       "   CRBI  CWalks League Division  PutOuts  Assists  Errors  Salary NewLeague  \n",
       "0   414     375      N        W      632       43      10   475.0         N  \n",
       "1   266     263      A        W      880       82      14   480.0         A  \n",
       "2   838     354      N        E      200       11       3   500.0         N  \n",
       "3    46      33      N        E      805       40       4    91.5         N  \n",
       "4   336     194      A        W      282      421      25   750.0         A  "
      ]
     },
     "execution_count": 287,
     "metadata": {},
     "output_type": "execute_result"
    }
   ],
   "source": [
    "Hitters = pd.read_csv('data/Hitters.csv', header=0, na_values='NA')\n",
    "\n",
    "# drop rows NA values and reindex\n",
    "Hitters = Hitters.dropna().reset_index(drop=True) \n",
    "print(Hitters.shape)\n",
    "Hitters.head()"
   ]
  },
  {
   "cell_type": "code",
   "execution_count": 288,
   "id": "a63e2997",
   "metadata": {},
   "outputs": [
    {
     "name": "stdout",
     "output_type": "stream",
     "text": [
      "(263, 19)\n"
     ]
    },
    {
     "data": {
      "text/html": [
       "<div>\n",
       "<style scoped>\n",
       "    .dataframe tbody tr th:only-of-type {\n",
       "        vertical-align: middle;\n",
       "    }\n",
       "\n",
       "    .dataframe tbody tr th {\n",
       "        vertical-align: top;\n",
       "    }\n",
       "\n",
       "    .dataframe thead th {\n",
       "        text-align: right;\n",
       "    }\n",
       "</style>\n",
       "<table border=\"1\" class=\"dataframe\">\n",
       "  <thead>\n",
       "    <tr style=\"text-align: right;\">\n",
       "      <th></th>\n",
       "      <th>AtBat</th>\n",
       "      <th>Hits</th>\n",
       "      <th>HmRun</th>\n",
       "      <th>Runs</th>\n",
       "      <th>RBI</th>\n",
       "      <th>Walks</th>\n",
       "      <th>Years</th>\n",
       "      <th>CAtBat</th>\n",
       "      <th>CHits</th>\n",
       "      <th>CHmRun</th>\n",
       "      <th>CRuns</th>\n",
       "      <th>CRBI</th>\n",
       "      <th>CWalks</th>\n",
       "      <th>PutOuts</th>\n",
       "      <th>Assists</th>\n",
       "      <th>Errors</th>\n",
       "      <th>League_A</th>\n",
       "      <th>Division_E</th>\n",
       "      <th>NewLeague_A</th>\n",
       "    </tr>\n",
       "  </thead>\n",
       "  <tbody>\n",
       "    <tr>\n",
       "      <th>0</th>\n",
       "      <td>315.0</td>\n",
       "      <td>81.0</td>\n",
       "      <td>7.0</td>\n",
       "      <td>24.0</td>\n",
       "      <td>38.0</td>\n",
       "      <td>39.0</td>\n",
       "      <td>14.0</td>\n",
       "      <td>3449.0</td>\n",
       "      <td>835.0</td>\n",
       "      <td>69.0</td>\n",
       "      <td>321.0</td>\n",
       "      <td>414.0</td>\n",
       "      <td>375.0</td>\n",
       "      <td>632.0</td>\n",
       "      <td>43.0</td>\n",
       "      <td>10.0</td>\n",
       "      <td>0</td>\n",
       "      <td>0</td>\n",
       "      <td>0</td>\n",
       "    </tr>\n",
       "    <tr>\n",
       "      <th>1</th>\n",
       "      <td>479.0</td>\n",
       "      <td>130.0</td>\n",
       "      <td>18.0</td>\n",
       "      <td>66.0</td>\n",
       "      <td>72.0</td>\n",
       "      <td>76.0</td>\n",
       "      <td>3.0</td>\n",
       "      <td>1624.0</td>\n",
       "      <td>457.0</td>\n",
       "      <td>63.0</td>\n",
       "      <td>224.0</td>\n",
       "      <td>266.0</td>\n",
       "      <td>263.0</td>\n",
       "      <td>880.0</td>\n",
       "      <td>82.0</td>\n",
       "      <td>14.0</td>\n",
       "      <td>1</td>\n",
       "      <td>0</td>\n",
       "      <td>1</td>\n",
       "    </tr>\n",
       "    <tr>\n",
       "      <th>2</th>\n",
       "      <td>496.0</td>\n",
       "      <td>141.0</td>\n",
       "      <td>20.0</td>\n",
       "      <td>65.0</td>\n",
       "      <td>78.0</td>\n",
       "      <td>37.0</td>\n",
       "      <td>11.0</td>\n",
       "      <td>5628.0</td>\n",
       "      <td>1575.0</td>\n",
       "      <td>225.0</td>\n",
       "      <td>828.0</td>\n",
       "      <td>838.0</td>\n",
       "      <td>354.0</td>\n",
       "      <td>200.0</td>\n",
       "      <td>11.0</td>\n",
       "      <td>3.0</td>\n",
       "      <td>0</td>\n",
       "      <td>1</td>\n",
       "      <td>0</td>\n",
       "    </tr>\n",
       "    <tr>\n",
       "      <th>3</th>\n",
       "      <td>321.0</td>\n",
       "      <td>87.0</td>\n",
       "      <td>10.0</td>\n",
       "      <td>39.0</td>\n",
       "      <td>42.0</td>\n",
       "      <td>30.0</td>\n",
       "      <td>2.0</td>\n",
       "      <td>396.0</td>\n",
       "      <td>101.0</td>\n",
       "      <td>12.0</td>\n",
       "      <td>48.0</td>\n",
       "      <td>46.0</td>\n",
       "      <td>33.0</td>\n",
       "      <td>805.0</td>\n",
       "      <td>40.0</td>\n",
       "      <td>4.0</td>\n",
       "      <td>0</td>\n",
       "      <td>1</td>\n",
       "      <td>0</td>\n",
       "    </tr>\n",
       "    <tr>\n",
       "      <th>4</th>\n",
       "      <td>594.0</td>\n",
       "      <td>169.0</td>\n",
       "      <td>4.0</td>\n",
       "      <td>74.0</td>\n",
       "      <td>51.0</td>\n",
       "      <td>35.0</td>\n",
       "      <td>11.0</td>\n",
       "      <td>4408.0</td>\n",
       "      <td>1133.0</td>\n",
       "      <td>19.0</td>\n",
       "      <td>501.0</td>\n",
       "      <td>336.0</td>\n",
       "      <td>194.0</td>\n",
       "      <td>282.0</td>\n",
       "      <td>421.0</td>\n",
       "      <td>25.0</td>\n",
       "      <td>1</td>\n",
       "      <td>0</td>\n",
       "      <td>1</td>\n",
       "    </tr>\n",
       "  </tbody>\n",
       "</table>\n",
       "</div>"
      ],
      "text/plain": [
       "   AtBat   Hits  HmRun  Runs   RBI  Walks  Years  CAtBat   CHits  CHmRun  \\\n",
       "0  315.0   81.0    7.0  24.0  38.0   39.0   14.0  3449.0   835.0    69.0   \n",
       "1  479.0  130.0   18.0  66.0  72.0   76.0    3.0  1624.0   457.0    63.0   \n",
       "2  496.0  141.0   20.0  65.0  78.0   37.0   11.0  5628.0  1575.0   225.0   \n",
       "3  321.0   87.0   10.0  39.0  42.0   30.0    2.0   396.0   101.0    12.0   \n",
       "4  594.0  169.0    4.0  74.0  51.0   35.0   11.0  4408.0  1133.0    19.0   \n",
       "\n",
       "   CRuns   CRBI  CWalks  PutOuts  Assists  Errors  League_A  Division_E  \\\n",
       "0  321.0  414.0   375.0    632.0     43.0    10.0         0           0   \n",
       "1  224.0  266.0   263.0    880.0     82.0    14.0         1           0   \n",
       "2  828.0  838.0   354.0    200.0     11.0     3.0         0           1   \n",
       "3   48.0   46.0    33.0    805.0     40.0     4.0         0           1   \n",
       "4  501.0  336.0   194.0    282.0    421.0    25.0         1           0   \n",
       "\n",
       "   NewLeague_A  \n",
       "0            0  \n",
       "1            1  \n",
       "2            0  \n",
       "3            0  \n",
       "4            1  "
      ]
     },
     "execution_count": 288,
     "metadata": {},
     "output_type": "execute_result"
    }
   ],
   "source": [
    "# convert categorical to dummy variables\n",
    "y = Hitters.Salary\n",
    "dummies = pd.get_dummies(Hitters[['League', 'Division', 'NewLeague']])\n",
    "\n",
    "# drop response and categorical variables\n",
    "X_prep = Hitters.drop(['Salary', 'League', 'Division', 'NewLeague'], axis = 1).astype('float64')\n",
    "X = pd.concat([X_prep,  dummies[['League_A', 'Division_E', 'NewLeague_A']]], axis=1)\n",
    "print(X.shape)\n",
    "X.head()"
   ]
  },
  {
   "cell_type": "code",
   "execution_count": 289,
   "id": "6790611c",
   "metadata": {},
   "outputs": [],
   "source": [
    "# scale so that each feature has mean zero and variance one\n",
    "scaler = StandardScaler()\n",
    "X[X.columns] = scaler.fit_transform(X[X.columns])\n",
    "X_train, X_test, y_train, y_test = train_test_split(X, y, test_size=0.33, shuffle=False)"
   ]
  },
  {
   "cell_type": "code",
   "execution_count": 290,
   "id": "87d8a08f",
   "metadata": {},
   "outputs": [
    {
     "name": "stdout",
     "output_type": "stream",
     "text": [
      "mean absolute error: 256.891370562953\n"
     ]
    }
   ],
   "source": [
    "LR = LinearRegression()\n",
    "LR.fit(X_train, y_train)\n",
    "y_pred = LR.predict(X_test)\n",
    "model_skill = mean_absolute_error(y_test, y_pred)\n",
    "print(f\"mean absolute error: {model_skill}\")"
   ]
  },
  {
   "cell_type": "markdown",
   "id": "ef29b520",
   "metadata": {},
   "source": [
    "## Deep Learning approach with Pytorch \n",
    "### 1051 Parameters (weights = $50 \\times 19 + 50 \\times 1$; bias = $50 + 1$)"
   ]
  },
  {
   "cell_type": "code",
   "execution_count": 291,
   "id": "fa37ea16",
   "metadata": {},
   "outputs": [],
   "source": [
    "import torch\n",
    "from torch import nn\n",
    "from torch.utils.data import DataLoader, TensorDataset\n",
    "torch.manual_seed(13)\n",
    "import numpy as np\n",
    "import matplotlib.pyplot as plt"
   ]
  },
  {
   "cell_type": "code",
   "execution_count": 292,
   "id": "0a58644d",
   "metadata": {},
   "outputs": [],
   "source": [
    "DROPOUT = 0.4\n",
    "BATCH_SIZE = 32\n",
    "LEARNING_RATE = 0.01\n",
    "RELU_UNITS = 50\n",
    "EPOCHS = 1500\n",
    "\n",
    "X_train_tensor = torch.tensor(X_train.values.astype(np.float32))\n",
    "y_train_tensor = torch.tensor(y_train.values.astype(np.float32))\n",
    "dataset = TensorDataset(X_train_tensor, y_train_tensor)\n",
    "dataloader = DataLoader(dataset, batch_size=BATCH_SIZE, shuffle=True)"
   ]
  },
  {
   "cell_type": "code",
   "execution_count": 293,
   "id": "7cb2a428",
   "metadata": {},
   "outputs": [
    {
     "name": "stdout",
     "output_type": "stream",
     "text": [
      "Using cpu device\n"
     ]
    }
   ],
   "source": [
    "device = \"cuda\" if torch.cuda.is_available() else \"cpu\"\n",
    "print(f\"Using {device} device\")"
   ]
  },
  {
   "cell_type": "markdown",
   "id": "2b51bb47",
   "metadata": {},
   "source": [
    "### Define Model Architecture "
   ]
  },
  {
   "cell_type": "code",
   "execution_count": 294,
   "id": "1fdd9de9",
   "metadata": {},
   "outputs": [],
   "source": [
    "class LR(nn.Module):\n",
    "    def __init__(self):\n",
    "        super(LR, self).__init__()\n",
    "        self.hidden = nn.Linear(in_features=X_train.shape[1], out_features=RELU_UNITS)\n",
    "        self.activation = nn.ReLU()\n",
    "        self.dropout = nn.Dropout(DROPOUT)\n",
    "        self.output = nn.Linear(RELU_UNITS, 1)\n",
    "        \n",
    "\n",
    "    def forward(self, x):\n",
    "        x = self.hidden(x)\n",
    "        x = self.activation(x)\n",
    "        x = self.dropout(x)\n",
    "        x = self.output(x)\n",
    "        return x\n"
   ]
  },
  {
   "cell_type": "code",
   "execution_count": 295,
   "id": "e7c9bcec",
   "metadata": {},
   "outputs": [
    {
     "name": "stdout",
     "output_type": "stream",
     "text": [
      "LR(\n",
      "  (hidden): Linear(in_features=19, out_features=50, bias=True)\n",
      "  (activation): ReLU()\n",
      "  (dropout): Dropout(p=0.4, inplace=False)\n",
      "  (output): Linear(in_features=50, out_features=1, bias=True)\n",
      ")\n",
      "model parameters: 1051\n"
     ]
    }
   ],
   "source": [
    "model = LR().to(device)\n",
    "print(model)\n",
    "total_parameters = sum(p.numel() for p in model.parameters())\n",
    "print (f\"model parameters: {total_parameters}\")"
   ]
  },
  {
   "cell_type": "markdown",
   "id": "2abb1f91",
   "metadata": {},
   "source": [
    "### Train Model"
   ]
  },
  {
   "cell_type": "code",
   "execution_count": 296,
   "id": "762c750a",
   "metadata": {},
   "outputs": [],
   "source": [
    "criterion = torch.nn.MSELoss() \n",
    "optimizer = torch.optim.RMSprop(model.parameters(), lr=LEARNING_RATE)"
   ]
  },
  {
   "cell_type": "code",
   "execution_count": 297,
   "id": "2b6d36cd",
   "metadata": {},
   "outputs": [],
   "source": [
    "size = len(dataloader.dataset)\n",
    "loss_all = []\n",
    "\n",
    "for epoch in range(EPOCHS):\n",
    "    # print(f\"-------------\\nEpoch {epoch + 1}\")\n",
    "    # Loop over batches in an epoch using DataLoader\n",
    "    current = 0\n",
    "    for batch, (x_batch, y_batch) in enumerate(dataloader):\n",
    "        \n",
    "        # compute prediction error\n",
    "        y_batch_pred = model(x_batch)\n",
    "        loss = criterion(y_batch_pred, y_batch.view(-1, 1))\n",
    "\n",
    "        # backpropagation\n",
    "        optimizer.zero_grad()\n",
    "        loss.backward()\n",
    "        optimizer.step()\n",
    "        \n",
    "        if batch % 2 == 0:\n",
    "            loss = loss.item()\n",
    "            current = (batch+1) * len(x_batch)\n",
    "            # print(f\"loss: {loss:>7f}  [{current:>5d}/{size:>5d}]\")\n",
    "            \n",
    "    loss_all.append(loss.item())"
   ]
  },
  {
   "cell_type": "markdown",
   "id": "35ccdfa5",
   "metadata": {},
   "source": [
    "### Plot Training Loss"
   ]
  },
  {
   "cell_type": "code",
   "execution_count": 298,
   "id": "ca3fc573",
   "metadata": {},
   "outputs": [
    {
     "data": {
      "text/plain": [
       "Text(0, 0.5, 'Loss [MSE]')"
      ]
     },
     "execution_count": 298,
     "metadata": {},
     "output_type": "execute_result"
    },
    {
     "data": {
      "image/png": "[encoded data removed]",
      "text/plain": [
       "<Figure size 720x576 with 1 Axes>"
      ]
     },
     "metadata": {
      "needs_background": "light"
     },
     "output_type": "display_data"
    }
   ],
   "source": [
    "plt.figure(figsize=(10, 8))\n",
    "plt.plot(loss_all)\n",
    "plt.xlabel('Epochs', fontsize=20)\n",
    "plt.ylabel('Loss [MSE]', fontsize=20)"
   ]
  },
  {
   "cell_type": "markdown",
   "id": "e369ff84",
   "metadata": {},
   "source": [
    "### Skill on test set"
   ]
  },
  {
   "cell_type": "code",
   "execution_count": 299,
   "id": "6f5a7dc9",
   "metadata": {},
   "outputs": [
    {
     "name": "stdout",
     "output_type": "stream",
     "text": [
      "mean absolute error: 266.55677286783856\n"
     ]
    }
   ],
   "source": [
    "mae = nn.L1Loss()\n",
    "y_test_tensor = torch.tensor(y_test.values).view(-1, 1)\n",
    "y_pred_tensor = model(torch.tensor(X_test.values.astype(np.float32)))\n",
    "model_skill = mae(y_test_tensor, y_pred_tensor).detach().numpy()\n",
    "print(f\"mean absolute error: {model_skill}\")"
   ]
  },
  {
   "cell_type": "code",
   "execution_count": 300,
   "id": "9e9cbccf",
   "metadata": {},
   "outputs": [
    {
     "data": {
      "text/plain": [
       "tensor([[ 874.9491],\n",
       "        [ 354.4938],\n",
       "        [ 120.1088],\n",
       "        [ 322.7629],\n",
       "        [ 271.0838],\n",
       "        [ 539.0363],\n",
       "        [ 904.0508],\n",
       "        [ 468.7598],\n",
       "        [1300.2028],\n",
       "        [ 372.5010],\n",
       "        [ 346.5380],\n",
       "        [ 318.7721],\n",
       "        [1138.5032],\n",
       "        [ 131.1846],\n",
       "        [ 723.8254],\n",
       "        [ 638.3289],\n",
       "        [ 343.5515],\n",
       "        [ 211.5504],\n",
       "        [ 347.3004],\n",
       "        [ 731.3546],\n",
       "        [ 328.2726],\n",
       "        [ 530.9124],\n",
       "        [ 521.7997],\n",
       "        [ 555.2650],\n",
       "        [2017.9623],\n",
       "        [ 281.3889],\n",
       "        [ 673.4678],\n",
       "        [ 235.2381],\n",
       "        [ 215.6898],\n",
       "        [ 168.7092],\n",
       "        [ 760.5189],\n",
       "        [ 193.3846],\n",
       "        [ 544.8069],\n",
       "        [ 516.7919],\n",
       "        [ 234.7217],\n",
       "        [ 931.1333],\n",
       "        [ 969.8396],\n",
       "        [ 473.5273],\n",
       "        [  84.8646],\n",
       "        [ 491.3084],\n",
       "        [ 299.9960],\n",
       "        [ 240.5740],\n",
       "        [1251.2529],\n",
       "        [ 424.7430],\n",
       "        [ 105.4954],\n",
       "        [1048.6951],\n",
       "        [ 185.6479],\n",
       "        [ 490.4259],\n",
       "        [ 389.6075],\n",
       "        [1383.2725],\n",
       "        [ 528.0251],\n",
       "        [ 345.0322],\n",
       "        [ 220.4975],\n",
       "        [ 933.8138],\n",
       "        [ 737.4426],\n",
       "        [ 443.1877],\n",
       "        [ 854.8416],\n",
       "        [ 696.7402],\n",
       "        [ 435.8284],\n",
       "        [ 301.3493],\n",
       "        [ 790.9741],\n",
       "        [ 297.1696],\n",
       "        [ 657.6510],\n",
       "        [ 155.5804],\n",
       "        [ 787.0732],\n",
       "        [ 236.6304],\n",
       "        [ 193.5865],\n",
       "        [ 474.0135],\n",
       "        [1347.4807],\n",
       "        [ 272.4171],\n",
       "        [ 219.3485],\n",
       "        [ 474.5017],\n",
       "        [ 753.3436],\n",
       "        [ 340.9651],\n",
       "        [ 265.9632],\n",
       "        [ 356.2633],\n",
       "        [1139.5764],\n",
       "        [ 558.9174],\n",
       "        [ 705.8813],\n",
       "        [1016.8402],\n",
       "        [ 386.7481],\n",
       "        [ 647.3342],\n",
       "        [ 307.9211],\n",
       "        [ 670.9250],\n",
       "        [ 237.2439],\n",
       "        [1473.6234],\n",
       "        [ 848.0330]], grad_fn=<AddmmBackward0>)"
      ]
     },
     "execution_count": 300,
     "metadata": {},
     "output_type": "execute_result"
    }
   ],
   "source": [
    "y_pred_tensor"
   ]
  },
  {
   "cell_type": "code",
   "execution_count": 324,
   "id": "7e6862f6",
   "metadata": {},
   "outputs": [
    {
     "data": {
      "text/plain": [
       "array([ 3.3487625 , -0.        ,  9.228004  ,  2.68788   , -0.        ,\n",
       "        0.85455084,  1.5597413 ,  4.590785  ,  6.031643  , 11.892583  ,\n",
       "        3.4782596 , -0.        , 11.323209  , 14.172894  , -0.        ,\n",
       "        3.126887  , 13.492205  ,  4.073326  ,  1.8152077 ,  3.4959562 ,\n",
       "        6.1139097 ,  7.2880096 , -0.        , -0.        ,  7.014283  ,\n",
       "       -0.        ,  2.6003711 , -0.        , -0.        , 13.202897  ,\n",
       "       -0.        , -0.        ,  3.552662  ,  6.2387023 ,  0.9649739 ,\n",
       "       -0.        , -0.        ,  6.558054  ,  6.6423345 ,  1.16154   ,\n",
       "        0.02023983,  3.930396  ,  6.070021  , -0.        , -0.        ,\n",
       "        8.989567  ,  4.37005   ,  5.0030956 ,  3.8862314 ,  3.9699833 ],\n",
       "      dtype=float32)"
      ]
     },
     "execution_count": 324,
     "metadata": {},
     "output_type": "execute_result"
    }
   ],
   "source": [
    "def ReLU(x):\n",
    "    return x * (x > 0)\n",
    "\n",
    "inputs = X_test.values.astype(np.float32)[-1] # (19)\n",
    "hidden_weights = [p for p in model.parameters()][0].detach().numpy() # (50, 19)\n",
    "hidden_biases = [p for p in model.parameters()][1].detach().numpy() # (50,)\n",
    "\n",
    "inputs_hidden_layer = np.array([ReLU(i) for i in ((inputs * hidden_weights).sum(axis=1)+hidden_biases)])\n",
    "inputs_hidden_layer"
   ]
  },
  {
   "cell_type": "code",
   "execution_count": 327,
   "id": "8aa04868",
   "metadata": {},
   "outputs": [
    {
     "data": {
      "text/plain": [
       "660.04"
      ]
     },
     "execution_count": 327,
     "metadata": {},
     "output_type": "execute_result"
    }
   ],
   "source": [
    "output_weights = [p for p in model.parameters()][2].detach().numpy()\n",
    "output_bias = [p for p in model.parameters()][3].detach().numpy()[0]\n",
    "(output_weights * inputs_hidden_layer)[0].sum() + output_bias"
   ]
  },
  {
   "cell_type": "code",
   "execution_count": 336,
   "id": "3638d1aa",
   "metadata": {},
   "outputs": [
    {
     "data": {
      "text/plain": [
       "array([ 3.3487625 , -0.        ,  9.228004  ,  2.68788   , -0.        ,\n",
       "        0.85455084,  1.5597413 ,  4.590785  ,  6.031643  , 11.892583  ,\n",
       "        3.4782596 , -0.        , 11.323209  , 14.172894  , -0.        ,\n",
       "        3.126887  , 13.492205  ,  4.073326  ,  1.8152077 ,  3.4959562 ,\n",
       "        6.1139097 ,  7.2880096 , -0.        , -0.        ,  7.014283  ,\n",
       "       -0.        ,  2.6003711 , -0.        , -0.        , 13.202897  ,\n",
       "       -0.        , -0.        ,  3.552662  ,  6.2387023 ,  0.9649739 ,\n",
       "       -0.        , -0.        ,  6.558054  ,  6.6423345 ,  1.16154   ,\n",
       "        0.02023983,  3.930396  ,  6.070021  , -0.        , -0.        ,\n",
       "        8.989567  ,  4.37005   ,  5.0030956 ,  3.8862314 ,  3.9699833 ],\n",
       "      dtype=float32)"
      ]
     },
     "execution_count": 336,
     "metadata": {},
     "output_type": "execute_result"
    }
   ],
   "source": [
    "inputs_hidden_layer"
   ]
  },
  {
   "cell_type": "code",
   "execution_count": 337,
   "id": "c442e664",
   "metadata": {},
   "outputs": [
    {
     "data": {
      "text/plain": [
       "array([[ 3.6365366,  4.4529605,  4.5824733,  3.514644 ,  9.601738 ,\n",
       "         3.5468163,  3.4926803,  3.0043569,  3.0297089,  2.9107578,\n",
       "         3.229013 ,  6.3612347,  2.902862 ,  3.192152 ,  3.5414386,\n",
       "         3.544489 ,  3.5349782,  3.0808008,  3.1786394,  4.268086 ,\n",
       "         3.4054754,  3.0645194,  6.0592284,  4.7690268,  2.7696543,\n",
       "         6.666298 ,  3.751037 ,  6.607408 ,  3.3814437,  2.9302018,\n",
       "         3.2045236, 12.138274 ,  3.401953 ,  3.2066593,  3.9598818,\n",
       "         7.3454595, 11.515286 ,  3.244622 ,  4.44704  ,  3.0298178,\n",
       "         4.1814632,  4.0462575,  2.925525 ,  3.6846383,  3.4658585,\n",
       "         3.453048 ,  3.2655401,  3.0305967,  4.618112 ,  3.473984 ]],\n",
       "      dtype=float32)"
      ]
     },
     "execution_count": 337,
     "metadata": {},
     "output_type": "execute_result"
    }
   ],
   "source": [
    "output_weights"
   ]
  },
  {
   "cell_type": "code",
   "execution_count": 340,
   "id": "6875ccda",
   "metadata": {},
   "outputs": [
    {
     "data": {
      "text/plain": [
       "647.66583"
      ]
     },
     "execution_count": 340,
     "metadata": {},
     "output_type": "execute_result"
    }
   ],
   "source": [
    "(output_weights * inputs_hidden_layer)[0].sum()"
   ]
  },
  {
   "cell_type": "code",
   "execution_count": null,
   "id": "7189bada",
   "metadata": {},
   "outputs": [],
   "source": []
  }
 ],
 "metadata": {
  "kernelspec": {
   "display_name": "Python 3 (ipykernel)",
   "language": "python",
   "name": "python3"
  },
  "language_info": {
   "codemirror_mode": {
    "name": "ipython",
    "version": 3
   },
   "file_extension": ".py",
   "mimetype": "text/x-python",
   "name": "python",
   "nbconvert_exporter": "python",
   "pygments_lexer": "ipython3",
   "version": "3.10.4"
  }
 },
 "nbformat": 4,
 "nbformat_minor": 5
}
